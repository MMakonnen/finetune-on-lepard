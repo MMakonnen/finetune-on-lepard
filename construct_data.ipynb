{
 "cells": [
  {
   "cell_type": "code",
   "execution_count": 1,
   "metadata": {},
   "outputs": [
    {
     "name": "stderr",
     "output_type": "stream",
     "text": [
      "/Users/mikael/miniconda3/envs/lpr/lib/python3.12/site-packages/tqdm/auto.py:21: TqdmWarning: IProgress not found. Please update jupyter and ipywidgets. See https://ipywidgets.readthedocs.io/en/stable/user_install.html\n",
      "  from .autonotebook import tqdm as notebook_tqdm\n"
     ]
    }
   ],
   "source": [
    "from datasets import load_dataset\n",
    "\n",
    "# local imports\n",
    "from config import config"
   ]
  },
  {
   "cell_type": "code",
   "execution_count": 6,
   "metadata": {},
   "outputs": [
    {
     "name": "stdout",
     "output_type": "stream",
     "text": [
      "Dataset size: 10k\n",
      "Train split ratio: 0.8\n",
      "Validation split ratio: 0.1\n",
      "Test split ratio: 0.1\n",
      "Data usage fraction: 0.2\n"
     ]
    }
   ],
   "source": [
    "# Unpack configuration values\n",
    "dataset_size = config['dataset_size']\n",
    "train_split = config['train_test_val_split']['train']\n",
    "val_split = config['train_test_val_split']['validation']\n",
    "test_split = config['train_test_val_split']['test']\n",
    "data_use_frac = config['data_usage_fraction']\n",
    "\n",
    "# Sanity checks for configuration values\n",
    "print(f\"Dataset size: {dataset_size}k\")\n",
    "print(f\"Train split ratio: {train_split}\")\n",
    "print(f\"Validation split ratio: {val_split}\")\n",
    "print(f\"Test split ratio: {test_split}\")\n",
    "print(f\"Data usage fraction: {data_use_frac}\")"
   ]
  },
  {
   "cell_type": "code",
   "execution_count": 7,
   "metadata": {},
   "outputs": [
    {
     "data": {
      "text/plain": [
       "DatasetDict({\n",
       "    train: Dataset({\n",
       "        features: ['dest_id', 'source_id', 'dest_date', 'dest_court', 'dest_name', 'dest_cite', 'source_date', 'source_court', 'source_name', 'source_cite', 'passage_id', 'quote', 'destination_context'],\n",
       "        num_rows: 2076241\n",
       "    })\n",
       "})"
      ]
     },
     "execution_count": 7,
     "metadata": {},
     "output_type": "execute_result"
    }
   ],
   "source": [
    "# load context data from hugging face\n",
    "file_name = f\"top_{config['dataset_size']}000_data.csv.gz\"\n",
    "contexts = load_dataset(\"rmahari/LePaRD\", data_files=file_name)\n",
    "contexts"
   ]
  }
 ],
 "metadata": {
  "kernelspec": {
   "display_name": "lpr",
   "language": "python",
   "name": "python3"
  },
  "language_info": {
   "codemirror_mode": {
    "name": "ipython",
    "version": 3
   },
   "file_extension": ".py",
   "mimetype": "text/x-python",
   "name": "python",
   "nbconvert_exporter": "python",
   "pygments_lexer": "ipython3",
   "version": "3.12.8"
  }
 },
 "nbformat": 4,
 "nbformat_minor": 2
}
